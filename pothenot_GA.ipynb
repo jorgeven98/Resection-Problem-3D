{
 "cells": [
  {
   "cell_type": "markdown",
   "metadata": {},
   "source": [
    "\n",
    "# <center>Resection problem in 3D</center>\n",
    "\n",
    "  \\----------------------------------------------------------  \n",
    "Author: Jorge Ventura Gil  \n",
    "Date:   October, 2023  \n",
    "License: BSD-3  \n",
    "Version: 1.0  \n",
    "  \\----------------------------------------------------------  \n",
    "\n",
    "The first step is to include the libraries and dependencies to work with GA."
   ]
  },
  {
   "cell_type": "code",
   "execution_count": 2,
   "metadata": {},
   "outputs": [],
   "source": [
    "from clifford import *\n",
    "from clifford.g3c import *\n",
    "from clifford.tools.g3c import *\n",
    "from math import *\n",
    "#from pyganja import *"
   ]
  },
  {
   "attachments": {},
   "cell_type": "markdown",
   "metadata": {},
   "source": [
    "### Functions\n",
    "\n",
    "\n",
    "- **GetAngles**    \n",
    "This auxiliary function is in charge of obtaining the angles alpha, beta and gamma knowing the position of the points A, B, C and P. \n",
    "\n",
    "- **VGAMethod_2D**  \n",
    "The function applies the VGA-based method for solving the 2D rejection problem.\n",
    "\n",
    "- **CGAMethod_2D**  \n",
    "The function applies the CGA-based method for solving the 2D rejection problem.\n"
   ]
  },
  {
   "cell_type": "code",
   "execution_count": 3,
   "metadata": {},
   "outputs": [],
   "source": [
    "def GetAngles(A, B, C, P):\n",
    "    \n",
    "    ua = [A[0] - P[0], A[1] - P[1]]\n",
    "    ub = [B[0] - P[0], B[1] - P[1]]\n",
    "    uc = [C[0] - P[0], C[1] - P[1]]\n",
    "    \n",
    "    theta_ua = atan2(ua[1], ua[0])\n",
    "    theta_ub = atan2(ub[1], ub[0])\n",
    "    theta_uc = atan2(uc[1], uc[0])\n",
    "    \n",
    "    \n",
    "    print(\"Angles ----> A: %f, B: %f, C: %f\\n\"%(theta_ua*180/pi, theta_ub*180/pi, theta_uc*180/pi))\n",
    "    \n",
    "    alpha =  theta_ua - theta_ub\n",
    "    beta =  theta_ub - theta_uc\n",
    "    \n",
    "    # If P is aligned with A and B or B and C, a new assignment of the points is necessary.\n",
    "    if beta == 0:\n",
    "        alpha =  theta_ub - theta_ua\n",
    "        beta =  theta_ua - theta_uc     \n",
    "        print(\"The angle beta = 0 ---> The position of A and B will be interchanged.\")\n",
    "        A[:], B[:] = B[:], A[:]\n",
    "        \n",
    "    if alpha == 0:\n",
    "        alpha =  theta_ua - theta_uc\n",
    "        beta =  theta_uc - theta_ub\n",
    "        \n",
    "        print(\"The angle alpha = 0 ---> The position of C and B will be interchanged.\")\n",
    "        C[:], B[:] = B[:], C[:]\n",
    "    \n",
    "    # if we are working in 2 dimensions, gamma is not used.\n",
    "    gamma = None\n",
    "    if len(A) == 3:\n",
    "        gamma = atan2(A[2] - P[2], sqrt(ua[0]**2 + ua[1]**2))\n",
    "        \n",
    "\n",
    "    return alpha, beta, gamma\n",
    "\n",
    "#=========================================================================================================\n",
    "\n",
    "def VGA_Method_2D(A,B,C,alpha,beta):\n",
    "    \n",
    "    print(\"\\n================\\nVGA-based Method\\n================\\n\")\n",
    "    \n",
    "    v1 = (A[0]-B[0])*e1 + (A[1]-B[1])*e2\n",
    "    v2 = (C[0]-B[0])*e1 + (C[1]-B[1])*e2\n",
    "        \n",
    "    d1 = v1 + (v1/tan(alpha))*e12\n",
    "    d2 = v2 - (v2/tan(beta))*e12\n",
    "    d = d2-d1\n",
    "    \n",
    "    try:\n",
    "        p = (d1^d)|d.inv()\n",
    "        P = [B[0] + p.as_array()[1], B[1] + p.as_array()[2]]\n",
    "        \n",
    "    except Exception as err:\n",
    "        print(\"Prohibited circle ---> \",err)\n",
    "        \n",
    "    return P\n",
    "\n",
    "#=========================================================================================================\n",
    "    \n",
    "def CGA_Method_2D(A,B,C,alpha,beta):\n",
    "\n",
    "    if len(A) == 2: print(\"\\n================\\nCGA-based Method\\n================\\n\")\n",
    "    \n",
    "    a = A[0]*e1 + A[1]*e2 \n",
    "    b = B[0]*e1 + B[1]*e2\n",
    "    c = C[0]*e1 + C[1]*e2\n",
    "\n",
    "    A = up(a)\n",
    "    B = up(b)\n",
    "    C = up(c)\n",
    "\n",
    "    AB = sqrt(-2*(A << B))\n",
    "    BC = sqrt(-2*(C << B))\n",
    "\n",
    "    MA = AB/(2*tan(alpha))\n",
    "    MB = BC/(2*tan(beta))\n",
    "\n",
    "    midAB = (((A-B) ^ e3).dual()).normal()\n",
    "    midBC = (((B-C) ^ e3).dual()).normal()\n",
    "\n",
    "    S1 = (((A^B)*einf*(A^B)))\n",
    "    S2 = (((C^B)*einf*(C^B)))\n",
    "\n",
    "    O1 = up(down(S1) + (((eo^einf) << midAB))*MA)\n",
    "    O2 = up(down(S2) + (((eo^einf) << midBC))*MB)\n",
    "\n",
    "    R1 = (math.sqrt(-2*(O1 << B)))\n",
    "    R2 = (math.sqrt(-2*(O2 << B)))\n",
    "\n",
    "    C1 = (O1 - 1/2*(R1**2)*einf).normal()\n",
    "    C2 = (O2 - 1/2*(R2**2)*einf).normal()\n",
    "\n",
    "    CC = (C1 ^ C2 ^ e3).dual()\n",
    "\n",
    "    P = (down(point_pair_to_end_points(CC)[0]))\n",
    "\n",
    "    if P == b:\n",
    "        P = (down(point_pair_to_end_points(CC)[1]))\n",
    "\n",
    "    return P\n"
   ]
  },
  {
   "cell_type": "markdown",
   "metadata": {},
   "source": [
    "### Examples\n",
    "\n",
    "1. Point P outside the triangle formed by A, B and C"
   ]
  },
  {
   "cell_type": "code",
   "execution_count": 4,
   "metadata": {},
   "outputs": [],
   "source": [
    "A = [-7,-1]\n",
    "B = [1,5]\n",
    "C = [15.6,6]\n",
    "P = [3.12,-18.5]"
   ]
  },
  {
   "cell_type": "markdown",
   "metadata": {},
   "source": [
    "2. Point P inside the triangle formed by points A, B, and C"
   ]
  },
  {
   "cell_type": "code",
   "execution_count": 46,
   "metadata": {},
   "outputs": [],
   "source": [
    "A = [-5,4]\n",
    "B = [3.5,10]\n",
    "C = [7.6,-1]\n",
    "P = [3,3.5]"
   ]
  },
  {
   "cell_type": "markdown",
   "metadata": {},
   "source": [
    "3. Point P aligned with A and C"
   ]
  },
  {
   "cell_type": "code",
   "execution_count": 48,
   "metadata": {},
   "outputs": [],
   "source": [
    "A = [5,6]\n",
    "B = [0,1]\n",
    "C = [3,12]\n",
    "P = [8,-3]"
   ]
  },
  {
   "cell_type": "markdown",
   "metadata": {},
   "source": [
    "Choose a set of points and run the following code to check how each method is able to correctly calculate the position of point P"
   ]
  },
  {
   "cell_type": "code",
   "execution_count": 5,
   "metadata": {},
   "outputs": [
    {
     "name": "stdout",
     "output_type": "stream",
     "text": [
      "Angles ----> A: 120.040182, B: 95.154857, C: 63.006264\n",
      "\n",
      "ALPHA: 24.885325º\n",
      "BETA: 32.148593º\n",
      "\n",
      "================\n",
      "CGA-based Method\n",
      "================\n",
      "\n"
     ]
    },
    {
     "name": "stderr",
     "output_type": "stream",
     "text": [
      "c:\\Users\\Jorge\\AppData\\Local\\Programs\\Python\\Python310\\lib\\site-packages\\numba\\core\\decorators.py:262: NumbaDeprecationWarning: \u001b[1mnumba.generated_jit is deprecated. Please see the documentation at: https://numba.readthedocs.io/en/stable/reference/deprecation.html#deprecation-of-generated-jit for more information and advice on a suitable replacement.\u001b[0m\n",
      "  warnings.warn(msg, NumbaDeprecationWarning)\n"
     ]
    },
    {
     "name": "stdout",
     "output_type": "stream",
     "text": [
      "The position of point P is: [3.120000,-18.500000]\n",
      "\n",
      "================\n",
      "VGA-based Method\n",
      "================\n",
      "\n",
      "The position of point P is: [3.120000,-18.500000]\n"
     ]
    }
   ],
   "source": [
    "alpha, beta, _ = GetAngles(A,B,C,P)\n",
    "conv = 180/pi\n",
    "print(\"ALPHA: %fº\\nBETA: %fº\"%(alpha*conv,beta*conv))\n",
    "\n",
    "P = CGA_Method_2D(A,B,C,alpha,beta)\n",
    "print(\"The position of point P is: [%f, %f]\"%(P.as_array()[1],P.as_array()[2]))\n",
    "\n",
    "P = VGA_Method_2D(A,B,C,alpha,beta)\n",
    "print(\"The position of point P is: [%f, %f]\"%(P[0],P[1]))"
   ]
  },
  {
   "cell_type": "markdown",
   "metadata": {},
   "source": [
    "## Solving the problem in 3D\n",
    "\n",
    "### Function\n",
    "- **CGA_Method_3D**  \n",
    "This method uses the previously defined function _CGA_Method_2D_ to first make a projection onto the _e<sub>12</sub>_ plane and solve the problem in 2D. With the 2D solution we obtain the remaining coordinate by using the _gamma_ angle."
   ]
  },
  {
   "cell_type": "code",
   "execution_count": 6,
   "metadata": {},
   "outputs": [],
   "source": [
    "def CGA_Method_3D(A,B,C,alpha,beta,gamma):\n",
    "    \n",
    "    P_v = CGA_Method_2D(A,B,C,alpha,beta)\n",
    "    P_c = up(P_v)\n",
    "    \n",
    "    a = A[0]*e1 + A[1]*e2 + A[2]*e3\n",
    "    b = B[0]*e1 + B[1]*e2 + B[2]*e3\n",
    "    c = C[0]*e1 + C[1]*e2 + C[2]*e3\n",
    "        \n",
    "    A = up(a)\n",
    "    B = up(b)  \n",
    "    C = up(c)\n",
    "\n",
    "    L = P_c ^ up(P_v + e3) ^ einf\n",
    "    Na = ((A << L).dual()) ^ einf\n",
    "    F = (Na.dual() ^ L.dual()).dual()\n",
    "    g =  up(down(eo << F))\n",
    "\n",
    "    P = down(g) + e3 * tan(-gamma) * sqrt(-2* (g << A))\n",
    "    \n",
    "    # print('\\nPv = %s\\nL = %s\\nNa = %s\\nF = %s\\ng = %s\\n\\n'%(P_c,L,Na,F,g))\n",
    "\n",
    "    return P\n",
    "    "
   ]
  },
  {
   "cell_type": "markdown",
   "metadata": {},
   "source": [
    "3D point configuration"
   ]
  },
  {
   "cell_type": "code",
   "execution_count": 7,
   "metadata": {},
   "outputs": [],
   "source": [
    "A = [1,15,0]\n",
    "B = [-4,1,3]\n",
    "C = [3,-8,2.6]\n",
    "P = [6.81034,-6.63073,14.53887809]"
   ]
  },
  {
   "cell_type": "code",
   "execution_count": 8,
   "metadata": {},
   "outputs": [
    {
     "name": "stdout",
     "output_type": "stream",
     "text": [
      "Angles ----> A: 105.035590, B: 144.782755, C: -160.233776\n",
      "\n",
      "ALPHA: -39.747164 º\n",
      "BETA: 305.016531 º\n",
      "GAMMA: -32.988778 º\n",
      "\n",
      "Pv = (6.81034^e1) - (6.63073^e2) + (44.67366^e4) + (45.67366^e5)\n",
      "L = (6.81034^e134) + (6.81034^e135) - (6.63073^e234) - (6.63073^e235) + (1.0^e345)\n",
      "Na = (1.0^e1245)\n",
      "F = (6.81034^e14) + (6.81034^e15) - (6.63073^e24) - (6.63073^e25) - (1.0^e45)\n",
      "g = (6.81034^e1) - (6.63073^e2) + (44.67366^e4) + (45.67366^e5)\n",
      "\n",
      "\n",
      "The position of point P is: [6.810340,-6.630730,14.538878]\n"
     ]
    }
   ],
   "source": [
    "alpha, beta, gamma = GetAngles(A,B,C,P)\n",
    "conv = 180/pi\n",
    "print(\"ALPHA: %f º\\nBETA: %f º\\nGAMMA: %f º\"%(alpha*conv,beta*conv,gamma*conv))\n",
    "\n",
    "#alpha, beta, gamma = 40*conv**-1, 55*conv**-1, -30*conv**-1\n",
    "p = CGA_Method_3D(A,B,C,alpha,beta,gamma)\n",
    "print(\"The position of point P is: [%f, %f, %f]\"%(p.as_array()[1],p.as_array()[2],p.as_array()[3]))"
   ]
  },
  {
   "cell_type": "code",
   "execution_count": 34,
   "metadata": {},
   "outputs": [
    {
     "data": {
      "text/plain": [
       "44.99999779997937"
      ]
     },
     "execution_count": 34,
     "metadata": {},
     "output_type": "execute_result"
    }
   ],
   "source": []
  }
 ],
 "metadata": {
  "kernelspec": {
   "display_name": "Python 3",
   "language": "python",
   "name": "python3"
  },
  "language_info": {
   "codemirror_mode": {
    "name": "ipython",
    "version": 3
   },
   "file_extension": ".py",
   "mimetype": "text/x-python",
   "name": "python",
   "nbconvert_exporter": "python",
   "pygments_lexer": "ipython3",
   "version": "3.10.9"
  },
  "orig_nbformat": 4
 },
 "nbformat": 4,
 "nbformat_minor": 2
}
